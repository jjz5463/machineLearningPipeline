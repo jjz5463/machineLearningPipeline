{
 "cells": [
  {
   "cell_type": "markdown",
   "metadata": {
    "_uuid": "13cb9a3348a71800ba8c8faf5d6afcb072a02240"
   },
   "source": [
    "# MNIST dataset: a starting-point notebook"
   ]
  },
  {
   "cell_type": "markdown",
   "metadata": {
    "_uuid": "e1b04676e29037b745f456661e81f668971d266f"
   },
   "source": [
    "In this notebook we will classify examples from the MNIST hand-digit dataset according to different classification methods. The accuracy, precision and recall for each classification method will be determined.\n",
    "\n",
    "We will use here:\n",
    "- Logistic regression (\"by hand\" )\n",
    "- Random Forest\n",
    "- Naive Bayes\n",
    "- Support Vector Machines\n",
    "\n",
    "Finally we briefly present the result of the principal compnent analysis (PCA), again adopting a \"by-hand\" aproach.\n",
    "\n",
    "This notebook might be useful to beginners in ML with Python, but with basic ML knowledge (e.g. linear, polynomial, logistic regression; gradient descent etc.).\n",
    "Also, optimization techniques are beyond the scope of his notebook, and we mainly use classifier from sklearn with standard parameters."
   ]
  },
  {
   "cell_type": "markdown",
   "metadata": {
    "_uuid": "79db4a212560d008b44b11d5a3637ffe64b84fdf"
   },
   "source": [
    "# Part 1: Import libraries and data + some little EDA"
   ]
  },
  {
   "cell_type": "code",
   "execution_count": 1,
   "metadata": {
    "_cell_guid": "b1076dfc-b9ad-4769-8c92-a6c4dae69d19",
    "_uuid": "8f2839f25d086af736a60e9eeb907d3b93b6e0e5"
   },
   "outputs": [
    {
     "name": "stdout",
     "output_type": "stream",
     "text": [
      "['fashion-mnist_test.csv', 't10k-labels-idx1-ubyte']\n"
     ]
    }
   ],
   "source": [
    "# This Python 3 environment comes with many helpful analytics libraries installed\n",
    "# It is defined by the kaggle/python docker image: https://github.com/kaggle/docker-python\n",
    "# For example, here's several helpful packages to load in \n",
    "\n",
    "import pandas as pd\n",
    "import numpy as np\n",
    "import matplotlib.pyplot as plt\n",
    "import seaborn as sns\n",
    "import random\n",
    "%matplotlib inline\n",
    "\n",
    "# Input data files are available in the \"../input/\" directory.\n",
    "# For example, running this (by clicking run or pressing Shift+Enter) will list the files in the input directory\n",
    "\n",
    "import os\n",
    "print(os.listdir(\"./input\"))\n",
    "\n",
    "# Any results you write to the current directory are saved as output."
   ]
  },
  {
   "cell_type": "code",
   "execution_count": 3,
   "metadata": {
    "_uuid": "f9cc8b5670dda21ce627d4ef5d0d351c24eacc19"
   },
   "outputs": [],
   "source": [
    "#Importing the data as pandas dataframe. We won't use the test.csv file, as we are\n",
    "#concerned with supervised learning here. We rather divide train.csv into train and test set\n",
    "#each example then having its own target value known. \n",
    "\n",
    "train = pd.read_csv('./input/train.csv')\n",
    "#test = pd.read_csv('../input/test.csv')"
   ]
  },
  {
   "cell_type": "markdown",
   "metadata": {
    "_uuid": "fff63a5151e4b103caf9da1b9a5b761348ca2a5f"
   },
   "source": [
    "Let us have a look to the \"train\" data:"
   ]
  },
  {
   "cell_type": "code",
   "execution_count": 4,
   "metadata": {
    "_uuid": "49a34cf8079cfe33d31ac69f68a052f9a35bde36"
   },
   "outputs": [
    {
     "data": {
      "text/plain": [
       "(42000, 785)"
      ]
     },
     "execution_count": 4,
     "metadata": {},
     "output_type": "execute_result"
    }
   ],
   "source": [
    "train.shape"
   ]
  },
  {
   "cell_type": "code",
   "execution_count": 5,
   "metadata": {
    "_uuid": "b8de453da7bd2fcc89b6a58b761d95d374f09e59"
   },
   "outputs": [
    {
     "data": {
      "text/html": [
       "<div>\n",
       "<style scoped>\n",
       "    .dataframe tbody tr th:only-of-type {\n",
       "        vertical-align: middle;\n",
       "    }\n",
       "\n",
       "    .dataframe tbody tr th {\n",
       "        vertical-align: top;\n",
       "    }\n",
       "\n",
       "    .dataframe thead th {\n",
       "        text-align: right;\n",
       "    }\n",
       "</style>\n",
       "<table border=\"1\" class=\"dataframe\">\n",
       "  <thead>\n",
       "    <tr style=\"text-align: right;\">\n",
       "      <th></th>\n",
       "      <th>label</th>\n",
       "      <th>pixel0</th>\n",
       "      <th>pixel1</th>\n",
       "      <th>pixel2</th>\n",
       "      <th>pixel3</th>\n",
       "      <th>pixel4</th>\n",
       "      <th>pixel5</th>\n",
       "      <th>pixel6</th>\n",
       "      <th>pixel7</th>\n",
       "      <th>pixel8</th>\n",
       "      <th>...</th>\n",
       "      <th>pixel774</th>\n",
       "      <th>pixel775</th>\n",
       "      <th>pixel776</th>\n",
       "      <th>pixel777</th>\n",
       "      <th>pixel778</th>\n",
       "      <th>pixel779</th>\n",
       "      <th>pixel780</th>\n",
       "      <th>pixel781</th>\n",
       "      <th>pixel782</th>\n",
       "      <th>pixel783</th>\n",
       "    </tr>\n",
       "  </thead>\n",
       "  <tbody>\n",
       "    <tr>\n",
       "      <th>0</th>\n",
       "      <td>1</td>\n",
       "      <td>0</td>\n",
       "      <td>0</td>\n",
       "      <td>0</td>\n",
       "      <td>0</td>\n",
       "      <td>0</td>\n",
       "      <td>0</td>\n",
       "      <td>0</td>\n",
       "      <td>0</td>\n",
       "      <td>0</td>\n",
       "      <td>...</td>\n",
       "      <td>0</td>\n",
       "      <td>0</td>\n",
       "      <td>0</td>\n",
       "      <td>0</td>\n",
       "      <td>0</td>\n",
       "      <td>0</td>\n",
       "      <td>0</td>\n",
       "      <td>0</td>\n",
       "      <td>0</td>\n",
       "      <td>0</td>\n",
       "    </tr>\n",
       "    <tr>\n",
       "      <th>1</th>\n",
       "      <td>0</td>\n",
       "      <td>0</td>\n",
       "      <td>0</td>\n",
       "      <td>0</td>\n",
       "      <td>0</td>\n",
       "      <td>0</td>\n",
       "      <td>0</td>\n",
       "      <td>0</td>\n",
       "      <td>0</td>\n",
       "      <td>0</td>\n",
       "      <td>...</td>\n",
       "      <td>0</td>\n",
       "      <td>0</td>\n",
       "      <td>0</td>\n",
       "      <td>0</td>\n",
       "      <td>0</td>\n",
       "      <td>0</td>\n",
       "      <td>0</td>\n",
       "      <td>0</td>\n",
       "      <td>0</td>\n",
       "      <td>0</td>\n",
       "    </tr>\n",
       "    <tr>\n",
       "      <th>2</th>\n",
       "      <td>1</td>\n",
       "      <td>0</td>\n",
       "      <td>0</td>\n",
       "      <td>0</td>\n",
       "      <td>0</td>\n",
       "      <td>0</td>\n",
       "      <td>0</td>\n",
       "      <td>0</td>\n",
       "      <td>0</td>\n",
       "      <td>0</td>\n",
       "      <td>...</td>\n",
       "      <td>0</td>\n",
       "      <td>0</td>\n",
       "      <td>0</td>\n",
       "      <td>0</td>\n",
       "      <td>0</td>\n",
       "      <td>0</td>\n",
       "      <td>0</td>\n",
       "      <td>0</td>\n",
       "      <td>0</td>\n",
       "      <td>0</td>\n",
       "    </tr>\n",
       "    <tr>\n",
       "      <th>3</th>\n",
       "      <td>4</td>\n",
       "      <td>0</td>\n",
       "      <td>0</td>\n",
       "      <td>0</td>\n",
       "      <td>0</td>\n",
       "      <td>0</td>\n",
       "      <td>0</td>\n",
       "      <td>0</td>\n",
       "      <td>0</td>\n",
       "      <td>0</td>\n",
       "      <td>...</td>\n",
       "      <td>0</td>\n",
       "      <td>0</td>\n",
       "      <td>0</td>\n",
       "      <td>0</td>\n",
       "      <td>0</td>\n",
       "      <td>0</td>\n",
       "      <td>0</td>\n",
       "      <td>0</td>\n",
       "      <td>0</td>\n",
       "      <td>0</td>\n",
       "    </tr>\n",
       "    <tr>\n",
       "      <th>4</th>\n",
       "      <td>0</td>\n",
       "      <td>0</td>\n",
       "      <td>0</td>\n",
       "      <td>0</td>\n",
       "      <td>0</td>\n",
       "      <td>0</td>\n",
       "      <td>0</td>\n",
       "      <td>0</td>\n",
       "      <td>0</td>\n",
       "      <td>0</td>\n",
       "      <td>...</td>\n",
       "      <td>0</td>\n",
       "      <td>0</td>\n",
       "      <td>0</td>\n",
       "      <td>0</td>\n",
       "      <td>0</td>\n",
       "      <td>0</td>\n",
       "      <td>0</td>\n",
       "      <td>0</td>\n",
       "      <td>0</td>\n",
       "      <td>0</td>\n",
       "    </tr>\n",
       "  </tbody>\n",
       "</table>\n",
       "<p>5 rows × 785 columns</p>\n",
       "</div>"
      ],
      "text/plain": [
       "   label  pixel0  pixel1  pixel2  pixel3  pixel4  pixel5  pixel6  pixel7  \\\n",
       "0      1       0       0       0       0       0       0       0       0   \n",
       "1      0       0       0       0       0       0       0       0       0   \n",
       "2      1       0       0       0       0       0       0       0       0   \n",
       "3      4       0       0       0       0       0       0       0       0   \n",
       "4      0       0       0       0       0       0       0       0       0   \n",
       "\n",
       "   pixel8  ...  pixel774  pixel775  pixel776  pixel777  pixel778  pixel779  \\\n",
       "0       0  ...         0         0         0         0         0         0   \n",
       "1       0  ...         0         0         0         0         0         0   \n",
       "2       0  ...         0         0         0         0         0         0   \n",
       "3       0  ...         0         0         0         0         0         0   \n",
       "4       0  ...         0         0         0         0         0         0   \n",
       "\n",
       "   pixel780  pixel781  pixel782  pixel783  \n",
       "0         0         0         0         0  \n",
       "1         0         0         0         0  \n",
       "2         0         0         0         0  \n",
       "3         0         0         0         0  \n",
       "4         0         0         0         0  \n",
       "\n",
       "[5 rows x 785 columns]"
      ]
     },
     "execution_count": 5,
     "metadata": {},
     "output_type": "execute_result"
    }
   ],
   "source": [
    "train.head()"
   ]
  },
  {
   "cell_type": "markdown",
   "metadata": {
    "_uuid": "61be39b83a41e939a9709c7f49e29fa6c169dec6"
   },
   "source": [
    "We see it is a $n \\times m$ matrix, with $n = 42000$ examples (images). Note that the first column 'label' denotes the independent variable column, i.e. the true digit corresponding to the image. \n",
    "\n",
    "Each images is then encoded in a $m = 785-1 = 784$ feature vector, representing the intensity of the pixel. Each element of the vector contains an integer encoding the intensity of a pixel. In other words the original image is decomposed in a $28 \\times 28$ pixel grid, which is reshaped to be represented as a $ 28 \\times 28=784$ column vector.\n",
    "\n",
    "Let us see below the visual represetation"
   ]
  },
  {
   "cell_type": "code",
   "execution_count": 6,
   "metadata": {
    "_uuid": "9f845c8072e8be9af21ce270e2b7925dd7babf23"
   },
   "outputs": [],
   "source": [
    "# We select 5 random examples (rows) from the train dataset\n",
    "random_indexes = random.sample(range(train.shape[0]),5)"
   ]
  },
  {
   "cell_type": "code",
   "execution_count": 7,
   "metadata": {
    "_uuid": "19fb10452dd1508f1bc02d3306522e97ba28b5a4"
   },
   "outputs": [],
   "source": [
    "#The original images are obtained by reshaping the rowos\n",
    "original_images = [np.array(train.iloc[element,1:]).reshape(28,28) for element in random_indexes]\n",
    "\n",
    "#The 784-dimensional array form is instead\n",
    "array_representation = [np.array(train.iloc[element,1:]) for element in random_indexes]"
   ]
  },
  {
   "cell_type": "code",
   "execution_count": 8,
   "metadata": {
    "_uuid": "96a02d4a57389e34e06d35eaf7ec741a62e2f3d8"
   },
   "outputs": [
    {
     "data": {
      "image/png": "[encoded data removed]",
      "text/plain": [
       "<Figure size 432x288 with 5 Axes>"
      ]
     },
     "metadata": {
      "needs_background": "light"
     },
     "output_type": "display_data"
    }
   ],
   "source": [
    "#Visualizing the orginal images\n",
    "fig, axes = plt.subplots(nrows=1, ncols=5)\n",
    "\n",
    "i=0\n",
    "for ax in axes:\n",
    "    ax.imshow(original_images[i], cmap ='gist_gray')\n",
    "    i +=1\n",
    "fig.tight_layout()"
   ]
  },
  {
   "cell_type": "code",
   "execution_count": 9,
   "metadata": {
    "_uuid": "1e567a189e05448e6e489f08b82a8f8bf0d683e9"
   },
   "outputs": [
    {
     "data": {
      "image/png": "[encoded data removed]",
      "text/plain": [
       "<Figure size 432x288 with 5 Axes>"
      ]
     },
     "metadata": {
      "needs_background": "light"
     },
     "output_type": "display_data"
    }
   ],
   "source": [
    "#Visualizing their 784-dimensional array form\n",
    "\n",
    "fig, axes = plt.subplots(nrows=1, ncols=5)\n",
    "\n",
    "i=0\n",
    "for ax in axes:\n",
    "    ax.imshow(array_representation[0].reshape(784,1), aspect = 0.02,  cmap='gist_gray')\n",
    "    i +=1\n",
    "fig.tight_layout()"
   ]
  },
  {
   "cell_type": "markdown",
   "metadata": {
    "_uuid": "7d9d45d2d0d910d5a7c89089048ff6283a09a213"
   },
   "source": [
    "Let us have a look of the general statistical properties of the matrix 'train'. Many pixels have intensity 0, as it is expected: those correspond to the regions at border of the paper where the digit is originally drawn, which are less likely to be filled."
   ]
  },
  {
   "cell_type": "code",
   "execution_count": 10,
   "metadata": {
    "_uuid": "5e12d51142301e35d0ba54413d2d0c4f00ac8c0e"
   },
   "outputs": [
    {
     "data": {
      "text/html": [
       "<div>\n",
       "<style scoped>\n",
       "    .dataframe tbody tr th:only-of-type {\n",
       "        vertical-align: middle;\n",
       "    }\n",
       "\n",
       "    .dataframe tbody tr th {\n",
       "        vertical-align: top;\n",
       "    }\n",
       "\n",
       "    .dataframe thead th {\n",
       "        text-align: right;\n",
       "    }\n",
       "</style>\n",
       "<table border=\"1\" class=\"dataframe\">\n",
       "  <thead>\n",
       "    <tr style=\"text-align: right;\">\n",
       "      <th></th>\n",
       "      <th>label</th>\n",
       "      <th>pixel0</th>\n",
       "      <th>pixel1</th>\n",
       "      <th>pixel2</th>\n",
       "      <th>pixel3</th>\n",
       "      <th>pixel4</th>\n",
       "      <th>pixel5</th>\n",
       "      <th>pixel6</th>\n",
       "      <th>pixel7</th>\n",
       "      <th>pixel8</th>\n",
       "      <th>...</th>\n",
       "      <th>pixel774</th>\n",
       "      <th>pixel775</th>\n",
       "      <th>pixel776</th>\n",
       "      <th>pixel777</th>\n",
       "      <th>pixel778</th>\n",
       "      <th>pixel779</th>\n",
       "      <th>pixel780</th>\n",
       "      <th>pixel781</th>\n",
       "      <th>pixel782</th>\n",
       "      <th>pixel783</th>\n",
       "    </tr>\n",
       "  </thead>\n",
       "  <tbody>\n",
       "    <tr>\n",
       "      <th>count</th>\n",
       "      <td>42000.000000</td>\n",
       "      <td>42000.0</td>\n",
       "      <td>42000.0</td>\n",
       "      <td>42000.0</td>\n",
       "      <td>42000.0</td>\n",
       "      <td>42000.0</td>\n",
       "      <td>42000.0</td>\n",
       "      <td>42000.0</td>\n",
       "      <td>42000.0</td>\n",
       "      <td>42000.0</td>\n",
       "      <td>...</td>\n",
       "      <td>42000.000000</td>\n",
       "      <td>42000.000000</td>\n",
       "      <td>42000.000000</td>\n",
       "      <td>42000.00000</td>\n",
       "      <td>42000.000000</td>\n",
       "      <td>42000.000000</td>\n",
       "      <td>42000.0</td>\n",
       "      <td>42000.0</td>\n",
       "      <td>42000.0</td>\n",
       "      <td>42000.0</td>\n",
       "    </tr>\n",
       "    <tr>\n",
       "      <th>mean</th>\n",
       "      <td>4.456643</td>\n",
       "      <td>0.0</td>\n",
       "      <td>0.0</td>\n",
       "      <td>0.0</td>\n",
       "      <td>0.0</td>\n",
       "      <td>0.0</td>\n",
       "      <td>0.0</td>\n",
       "      <td>0.0</td>\n",
       "      <td>0.0</td>\n",
       "      <td>0.0</td>\n",
       "      <td>...</td>\n",
       "      <td>0.219286</td>\n",
       "      <td>0.117095</td>\n",
       "      <td>0.059024</td>\n",
       "      <td>0.02019</td>\n",
       "      <td>0.017238</td>\n",
       "      <td>0.002857</td>\n",
       "      <td>0.0</td>\n",
       "      <td>0.0</td>\n",
       "      <td>0.0</td>\n",
       "      <td>0.0</td>\n",
       "    </tr>\n",
       "    <tr>\n",
       "      <th>std</th>\n",
       "      <td>2.887730</td>\n",
       "      <td>0.0</td>\n",
       "      <td>0.0</td>\n",
       "      <td>0.0</td>\n",
       "      <td>0.0</td>\n",
       "      <td>0.0</td>\n",
       "      <td>0.0</td>\n",
       "      <td>0.0</td>\n",
       "      <td>0.0</td>\n",
       "      <td>0.0</td>\n",
       "      <td>...</td>\n",
       "      <td>6.312890</td>\n",
       "      <td>4.633819</td>\n",
       "      <td>3.274488</td>\n",
       "      <td>1.75987</td>\n",
       "      <td>1.894498</td>\n",
       "      <td>0.414264</td>\n",
       "      <td>0.0</td>\n",
       "      <td>0.0</td>\n",
       "      <td>0.0</td>\n",
       "      <td>0.0</td>\n",
       "    </tr>\n",
       "    <tr>\n",
       "      <th>min</th>\n",
       "      <td>0.000000</td>\n",
       "      <td>0.0</td>\n",
       "      <td>0.0</td>\n",
       "      <td>0.0</td>\n",
       "      <td>0.0</td>\n",
       "      <td>0.0</td>\n",
       "      <td>0.0</td>\n",
       "      <td>0.0</td>\n",
       "      <td>0.0</td>\n",
       "      <td>0.0</td>\n",
       "      <td>...</td>\n",
       "      <td>0.000000</td>\n",
       "      <td>0.000000</td>\n",
       "      <td>0.000000</td>\n",
       "      <td>0.00000</td>\n",
       "      <td>0.000000</td>\n",
       "      <td>0.000000</td>\n",
       "      <td>0.0</td>\n",
       "      <td>0.0</td>\n",
       "      <td>0.0</td>\n",
       "      <td>0.0</td>\n",
       "    </tr>\n",
       "    <tr>\n",
       "      <th>25%</th>\n",
       "      <td>2.000000</td>\n",
       "      <td>0.0</td>\n",
       "      <td>0.0</td>\n",
       "      <td>0.0</td>\n",
       "      <td>0.0</td>\n",
       "      <td>0.0</td>\n",
       "      <td>0.0</td>\n",
       "      <td>0.0</td>\n",
       "      <td>0.0</td>\n",
       "      <td>0.0</td>\n",
       "      <td>...</td>\n",
       "      <td>0.000000</td>\n",
       "      <td>0.000000</td>\n",
       "      <td>0.000000</td>\n",
       "      <td>0.00000</td>\n",
       "      <td>0.000000</td>\n",
       "      <td>0.000000</td>\n",
       "      <td>0.0</td>\n",
       "      <td>0.0</td>\n",
       "      <td>0.0</td>\n",
       "      <td>0.0</td>\n",
       "    </tr>\n",
       "    <tr>\n",
       "      <th>50%</th>\n",
       "      <td>4.000000</td>\n",
       "      <td>0.0</td>\n",
       "      <td>0.0</td>\n",
       "      <td>0.0</td>\n",
       "      <td>0.0</td>\n",
       "      <td>0.0</td>\n",
       "      <td>0.0</td>\n",
       "      <td>0.0</td>\n",
       "      <td>0.0</td>\n",
       "      <td>0.0</td>\n",
       "      <td>...</td>\n",
       "      <td>0.000000</td>\n",
       "      <td>0.000000</td>\n",
       "      <td>0.000000</td>\n",
       "      <td>0.00000</td>\n",
       "      <td>0.000000</td>\n",
       "      <td>0.000000</td>\n",
       "      <td>0.0</td>\n",
       "      <td>0.0</td>\n",
       "      <td>0.0</td>\n",
       "      <td>0.0</td>\n",
       "    </tr>\n",
       "    <tr>\n",
       "      <th>75%</th>\n",
       "      <td>7.000000</td>\n",
       "      <td>0.0</td>\n",
       "      <td>0.0</td>\n",
       "      <td>0.0</td>\n",
       "      <td>0.0</td>\n",
       "      <td>0.0</td>\n",
       "      <td>0.0</td>\n",
       "      <td>0.0</td>\n",
       "      <td>0.0</td>\n",
       "      <td>0.0</td>\n",
       "      <td>...</td>\n",
       "      <td>0.000000</td>\n",
       "      <td>0.000000</td>\n",
       "      <td>0.000000</td>\n",
       "      <td>0.00000</td>\n",
       "      <td>0.000000</td>\n",
       "      <td>0.000000</td>\n",
       "      <td>0.0</td>\n",
       "      <td>0.0</td>\n",
       "      <td>0.0</td>\n",
       "      <td>0.0</td>\n",
       "    </tr>\n",
       "    <tr>\n",
       "      <th>max</th>\n",
       "      <td>9.000000</td>\n",
       "      <td>0.0</td>\n",
       "      <td>0.0</td>\n",
       "      <td>0.0</td>\n",
       "      <td>0.0</td>\n",
       "      <td>0.0</td>\n",
       "      <td>0.0</td>\n",
       "      <td>0.0</td>\n",
       "      <td>0.0</td>\n",
       "      <td>0.0</td>\n",
       "      <td>...</td>\n",
       "      <td>254.000000</td>\n",
       "      <td>254.000000</td>\n",
       "      <td>253.000000</td>\n",
       "      <td>253.00000</td>\n",
       "      <td>254.000000</td>\n",
       "      <td>62.000000</td>\n",
       "      <td>0.0</td>\n",
       "      <td>0.0</td>\n",
       "      <td>0.0</td>\n",
       "      <td>0.0</td>\n",
       "    </tr>\n",
       "  </tbody>\n",
       "</table>\n",
       "<p>8 rows × 785 columns</p>\n",
       "</div>"
      ],
      "text/plain": [
       "              label   pixel0   pixel1   pixel2   pixel3   pixel4   pixel5  \\\n",
       "count  42000.000000  42000.0  42000.0  42000.0  42000.0  42000.0  42000.0   \n",
       "mean       4.456643      0.0      0.0      0.0      0.0      0.0      0.0   \n",
       "std        2.887730      0.0      0.0      0.0      0.0      0.0      0.0   \n",
       "min        0.000000      0.0      0.0      0.0      0.0      0.0      0.0   \n",
       "25%        2.000000      0.0      0.0      0.0      0.0      0.0      0.0   \n",
       "50%        4.000000      0.0      0.0      0.0      0.0      0.0      0.0   \n",
       "75%        7.000000      0.0      0.0      0.0      0.0      0.0      0.0   \n",
       "max        9.000000      0.0      0.0      0.0      0.0      0.0      0.0   \n",
       "\n",
       "        pixel6   pixel7   pixel8  ...      pixel774      pixel775  \\\n",
       "count  42000.0  42000.0  42000.0  ...  42000.000000  42000.000000   \n",
       "mean       0.0      0.0      0.0  ...      0.219286      0.117095   \n",
       "std        0.0      0.0      0.0  ...      6.312890      4.633819   \n",
       "min        0.0      0.0      0.0  ...      0.000000      0.000000   \n",
       "25%        0.0      0.0      0.0  ...      0.000000      0.000000   \n",
       "50%        0.0      0.0      0.0  ...      0.000000      0.000000   \n",
       "75%        0.0      0.0      0.0  ...      0.000000      0.000000   \n",
       "max        0.0      0.0      0.0  ...    254.000000    254.000000   \n",
       "\n",
       "           pixel776     pixel777      pixel778      pixel779  pixel780  \\\n",
       "count  42000.000000  42000.00000  42000.000000  42000.000000   42000.0   \n",
       "mean       0.059024      0.02019      0.017238      0.002857       0.0   \n",
       "std        3.274488      1.75987      1.894498      0.414264       0.0   \n",
       "min        0.000000      0.00000      0.000000      0.000000       0.0   \n",
       "25%        0.000000      0.00000      0.000000      0.000000       0.0   \n",
       "50%        0.000000      0.00000      0.000000      0.000000       0.0   \n",
       "75%        0.000000      0.00000      0.000000      0.000000       0.0   \n",
       "max      253.000000    253.00000    254.000000     62.000000       0.0   \n",
       "\n",
       "       pixel781  pixel782  pixel783  \n",
       "count   42000.0   42000.0   42000.0  \n",
       "mean        0.0       0.0       0.0  \n",
       "std         0.0       0.0       0.0  \n",
       "min         0.0       0.0       0.0  \n",
       "25%         0.0       0.0       0.0  \n",
       "50%         0.0       0.0       0.0  \n",
       "75%         0.0       0.0       0.0  \n",
       "max         0.0       0.0       0.0  \n",
       "\n",
       "[8 rows x 785 columns]"
      ]
     },
     "execution_count": 10,
     "metadata": {},
     "output_type": "execute_result"
    }
   ],
   "source": [
    "train.describe()"
   ]
  },
  {
   "cell_type": "markdown",
   "metadata": {
    "_uuid": "2159763b099bbc43705578f27f1353e74ccabbf7"
   },
   "source": [
    "The most likely pixel to contain part of the hand-written digit is "
   ]
  },
  {
   "cell_type": "code",
   "execution_count": 11,
   "metadata": {
    "_uuid": "8ff7206a0abd5d0e6a92382b3e3bab8c8a0fa6f2"
   },
   "outputs": [
    {
     "data": {
      "text/plain": [
       "'pixel407'"
      ]
     },
     "execution_count": 11,
     "metadata": {},
     "output_type": "execute_result"
    }
   ],
   "source": [
    "train.describe().loc['mean'].idxmax()"
   ]
  },
  {
   "cell_type": "markdown",
   "metadata": {
    "_uuid": "3ae7a0a0a0ce7f615dffab6844b8823a86a4fe3d"
   },
   "source": [
    "That is, this guy"
   ]
  },
  {
   "cell_type": "code",
   "execution_count": 12,
   "metadata": {
    "_uuid": "12e4d8171384b0313b75d6311b31d4a4d5a4ca13"
   },
   "outputs": [
    {
     "data": {
      "image/png": "[encoded data removed]",
      "text/plain": [
       "<Figure size 432x288 with 2 Axes>"
      ]
     },
     "metadata": {
      "needs_background": "light"
     },
     "output_type": "display_data"
    }
   ],
   "source": [
    "temp_im = np.zeros(shape=(28,28))\n",
    "temp_im[407//28, 407%28] = 100\n",
    "\n",
    "sns.heatmap(temp_im, cmap ='gray')\n",
    "plt.show()"
   ]
  },
  {
   "cell_type": "markdown",
   "metadata": {
    "_uuid": "82228e1975beb11a4a5a7cdcfa2af92d8ff4da4a"
   },
   "source": [
    "#### Question: What's the most frequent digit present in the train set?"
   ]
  },
  {
   "cell_type": "markdown",
   "metadata": {
    "_uuid": "ab1d14f7408cdb00b0c7ee7b9a7e7528761561ac"
   },
   "source": [
    "We see it's number 1. What would we expect? Well, each person who took part to the MNIST experiment had equal probability of writing a digit between 0-9. In practice, some cultural factor might influence their choice. For instance, number one is associated to succes, number 3 to perfection, whereas number 0 might not be so appealing... So if naively one expcets a uniform probability mass distribution for the 0-9 digits, it is not obvious what is going to happen in the infinite-example limit $n -> \\infty$."
   ]
  },
  {
   "cell_type": "code",
   "execution_count": 13,
   "metadata": {
    "_uuid": "29e955454ed38c0203019d1e69d5fb3b9089db08"
   },
   "outputs": [
    {
     "data": {
      "image/png": "[encoded data removed]",
      "text/plain": [
       "<Figure size 432x288 with 1 Axes>"
      ]
     },
     "metadata": {
      "needs_background": "light"
     },
     "output_type": "display_data"
    }
   ],
   "source": [
    "train.groupby('label').pixel0.count().plot.bar()\n",
    "plt.show()"
   ]
  },
  {
   "cell_type": "markdown",
   "metadata": {
    "_uuid": "949a788c83b45e5f201dbe8dc97cd4aab6527a80"
   },
   "source": [
    "### Finally we define few functions for later convenience"
   ]
  },
  {
   "cell_type": "code",
   "execution_count": 14,
   "metadata": {
    "_uuid": "a5599930fc32d934e572e297212985cb222514f7"
   },
   "outputs": [],
   "source": [
    "#Normalizes each pixel column [-1,1], taking into account that some column is completely filed with 0s\n",
    "def feat_normalize(X):\n",
    "    M = X.shape[1]\n",
    "    for i in range(M):\n",
    "        if np.any(X[:,i]) != 0:\n",
    "            min_ = X[:,i].min()\n",
    "            max_ = X[:,i].max()\n",
    "            X[:,i] =(2*X[:,i]-min_-max_)/(max_-min_)\n",
    "            \n",
    "\n",
    "            \n",
    "def append_ones(X):\n",
    "    \n",
    "    s = X.shape[0]\n",
    "    \n",
    "    ones = np.ones(shape=(s,1))\n",
    "    \n",
    "    return np.concatenate((ones, X), axis=1)\n",
    "\n",
    "            \n",
    "#functions to calculate precision, recall and F1 score of a model\n",
    "            \n",
    "\n",
    "def prec_rec_F1(class_rep):\n",
    "    precision = []\n",
    "    recall = []\n",
    "    F1 = []\n",
    "\n",
    "    for i in range(10):\n",
    "        temp = np.zeros(shape=(2,2))\n",
    "        temp[0,0] = class_rep.iloc[i,i]\n",
    "        temp[0,1] = sum(class_rep.iloc[i,:i]) + sum(class_rep.iloc[i,i+1:])\n",
    "        temp[1,0] = sum(class_rep.iloc[:i,i]) + sum(class_rep.iloc[i+1:, i])\n",
    "        temp[1,1] = sum(np.diag(class_rep))- class_rep.iloc[i,i]\n",
    "    \n",
    "        ptemp = temp[0,0]/(temp[0,0]+ temp[0,1])\n",
    "        precision.append([i,ptemp])\n",
    "        rectemp = temp[0,0]/(temp[0,0]+ temp[1,0])\n",
    "        recall.append([i,rectemp])\n",
    "        F1.append([i,2 * ptemp * rectemp /(ptemp+rectemp)])\n",
    "    \n",
    "    return [precision, recall, F1]\n",
    "\n",
    "def create_class_rep(prediction, y_test):\n",
    "    class_rep =np.zeros(shape=(10,10))\n",
    "    \n",
    "    for i in range(len(y_test)):\n",
    "        x = prediction[i]\n",
    "        y = y_test[i]\n",
    "        class_rep[x,y] +=1\n",
    "        \n",
    "    class_rep = pd.DataFrame(class_rep)\n",
    "    return class_rep.applymap(int)\n",
    "\n",
    "\n",
    "\n"
   ]
  },
  {
   "cell_type": "markdown",
   "metadata": {
    "_uuid": "7d83284ef68142cb22a87d6d8e8750b9d1ad02ad"
   },
   "source": [
    "# Part 2: classifying the dataset\n",
    "\n",
    "## First approach: logistic regression by hand\n",
    "\n",
    "We use here the one vs all classification for multiclass problem: \n",
    "- take an example ex\n",
    "- Consider one of the ten classes an example can be classified into (i.e. class = 3)\n",
    "- Get the probabilities for ex to belong to class 3 or not by solving a binary classification model\n",
    "- Repeat for each of the ten classes\n",
    "- Classify ex -> class =... according to the highest obtained probability\n",
    "\n",
    "Let us define few functions:"
   ]
  },
  {
   "cell_type": "code",
   "execution_count": 15,
   "metadata": {
    "_uuid": "455b7cd4376e1c5506dd000799b7dc5bca9cc707"
   },
   "outputs": [],
   "source": [
    "#Sigmoid function\n",
    "def sigmoid(x):\n",
    "    return 1/(1 + np.exp(-x))\n",
    "\n",
    "#Cost function of the logistic regression for binary classification, s_i = {0,1} \n",
    "def cost(X, y , theta):\n",
    "    dim = X.shape[0]\n",
    "    s = sigmoid(np.dot(X,theta))\n",
    "    tot = -(np.log(s)*y +np.log(1-s)*(1-y))\n",
    "    return 1/dim *sum(tot)[0]\n",
    "    \n",
    "#Gradient of the cost function with respect to the parameters theta. To be used in gradient descent below\n",
    "def grad_cost(X, y, theta):\n",
    "    \n",
    "    dim = X.shape[0]\n",
    "    pred = sigmoid(np.dot(X,theta))\n",
    "    c1 = 1/dim * np.transpose(pred-y)\n",
    "    return np.transpose(np.dot(c1,X))\n",
    "\n",
    "#Gradient descent to get the parameter theta\n",
    "def grad_descent(X, y, theta, learning_par, num_iter):\n",
    "\n",
    "    for i in range(num_iter):\n",
    "        #print cost(X,y,theta) to check the cost is monotonically decreasing at each iteration\n",
    "        theta = theta - learning_par*grad_cost(X,y,theta)\n",
    "        \n",
    "    return theta\n",
    "\n",
    "\n",
    "\n"
   ]
  },
  {
   "cell_type": "code",
   "execution_count": 16,
   "metadata": {
    "_uuid": "c5a05cc048625b6442b988830876f36e4d50b021"
   },
   "outputs": [],
   "source": [
    "#Dividing the training set in train and test set\n",
    "\n",
    "y = train.iloc[:,0]\n",
    "X = train.iloc[:,1:]\n",
    "\n",
    "from sklearn.model_selection import train_test_split\n",
    "X_train, X_test, y_train, y_test = train_test_split(X, y, test_size=0.33, random_state = 101)\n",
    "\n",
    "#Normalizing the train and test sets\n",
    "X_train = np.array(X_train)\n",
    "feat_normalize(X_train)\n",
    "X_train = append_ones(X_train)\n",
    "\n",
    "\n",
    "#Appending the bias column to the train and test matrices\n",
    "\n",
    "X_test = np.array(X_test)\n",
    "feat_normalize(X_test)\n",
    "X_test = append_ones(X_test)\n",
    "\n",
    "\n",
    "\n",
    "\n"
   ]
  },
  {
   "cell_type": "markdown",
   "metadata": {
    "_uuid": "21b74086b0b6a253d2776b288e053a80ae25dd50"
   },
   "source": [
    "Now we can apply the on vs all classification. For each category 0-9 we get the list of target indexes and train the model to classfify whether an example belongs to that category or not, with the respective probability.\n",
    "\n",
    "Each binary classification is trained by minimizing the cost function via gradient descent"
   ]
  },
  {
   "cell_type": "code",
   "execution_count": 17,
   "metadata": {
    "_uuid": "354a94cb3d79593f56e867dfc5972daddd166a0a"
   },
   "outputs": [
    {
     "name": "stdout",
     "output_type": "stream",
     "text": [
      "0: done!\n",
      "1: done!\n",
      "2: done!\n",
      "3: done!\n",
      "4: done!\n",
      "5: done!\n",
      "6: done!\n",
      "7: done!\n",
      "8: done!\n",
      "9: done!\n"
     ]
    }
   ],
   "source": [
    "#Create the vector of target lables for each digit 0-9\n",
    "y_target = []\n",
    "for i in range(10):\n",
    "    y_target.append(y_train.apply(lambda x: 1 if x == i else 0))\n",
    "    \n",
    "#Initialize the list of training parameters (784+1 (bias) for each digit)\n",
    "theta=[]\n",
    "\n",
    "#Gradient descent to train the model\n",
    "for i in range(10):\n",
    "    ytemp = np.array(y_target[i])\n",
    "    ytemp = ytemp.reshape(y_train.shape[0],1)\n",
    "\n",
    "    thetatemp = np.zeros(shape=(X_train.shape[1],1))\n",
    "\n",
    "    alpha = 0.03\n",
    "    n_iter = 100\n",
    "\n",
    "    thetatemp = grad_descent(X_train,ytemp,thetatemp,alpha,n_iter)\n",
    "    theta.append(thetatemp)\n",
    "    print('{}: done!'.format(i))"
   ]
  },
  {
   "cell_type": "markdown",
   "metadata": {
    "_uuid": "1226a24cd154b0961ca87bbe72fb9ef39d446161"
   },
   "source": [
    "Great, we're all set! We have determined a form for 10 785-dimensional vectors theta[i] which we use to classify new examples. For instance, theta[0] and theta[1] are found as the following (in image form):"
   ]
  },
  {
   "cell_type": "code",
   "execution_count": null,
   "metadata": {
    "_uuid": "114fcc526eb30442ed8ed71150dd38e1f359a32b"
   },
   "outputs": [],
   "source": [
    "plt.imshow(theta[0][1:].reshape(28,28), cmap='gist_gray')\n",
    "plt.show()"
   ]
  },
  {
   "cell_type": "code",
   "execution_count": null,
   "metadata": {
    "_uuid": "ea6cd0bbb5e835eb67140e51620d6f603ad7828a"
   },
   "outputs": [],
   "source": [
    "plt.imshow(theta[1][1:].reshape(28,28), cmap='gist_gray')\n",
    "plt.show()"
   ]
  },
  {
   "cell_type": "markdown",
   "metadata": {
    "_uuid": "d9963fbb8b321bce20dbf416eab891f076960f59"
   },
   "source": [
    "Classification is nothing but measuring the overlap of new examples with those \"templates\" theta. This overlap is then passed to the sigmoid function, which in turns yields an output between 1 (perfect overlap) and 0 (no overlap at all). So the larger the overlap of a new unseen example with one of those templates, the larger the probability the example corresponds to the digit the tempalte is representative of.\n",
    "\n",
    "#### Let us predict new observation now"
   ]
  },
  {
   "cell_type": "code",
   "execution_count": null,
   "metadata": {
    "_uuid": "94bbe55213a1d9a7379f3265385ab5aa7588793f"
   },
   "outputs": [],
   "source": [
    "result = [sigmoid(np.dot(X_test,theta[i])) for i in range(10)]\n",
    "result = np.transpose(np.array(result)).reshape(X_test.shape[0],10)\n",
    "\n",
    "prediction = (np.array([element.argmax() for element in result])).reshape(X_test.shape[0],1)"
   ]
  },
  {
   "cell_type": "markdown",
   "metadata": {
    "_uuid": "e61a45474b5a68db98fd47e5b02a20310b036851"
   },
   "source": [
    "We can now test the accuracy of the prediction"
   ]
  },
  {
   "cell_type": "code",
   "execution_count": null,
   "metadata": {
    "_uuid": "c7b60c3c16e1854b775b271f47b9e1124e28345d"
   },
   "outputs": [],
   "source": [
    "#testing accuracy of the prediction\n",
    "y_test = np.array(y_test)\n",
    "y_test = y_test.reshape(y_test.shape[0],1)\n",
    "\n",
    "\n",
    "accuracy = sum(prediction == y_test)[0]/(y_test.shape[0])\n",
    "print('Accuracy is: {}%'.format(accuracy))"
   ]
  },
  {
   "cell_type": "markdown",
   "metadata": {
    "_uuid": "f74f4d2585b076ab1b8fba4e46ab3021fbfe05d9"
   },
   "source": [
    " We find an accuracy of ~82%, which can be improved by tuning the number of iterations and the learning parameter in the gradient descent loop."
   ]
  },
  {
   "cell_type": "markdown",
   "metadata": {
    "_uuid": "532c75c321b692b08556f285c94eab03f5173dfa"
   },
   "source": [
    "#### We create a classification matrix\n",
    "\n",
    "That is a matrix summarizing the classification for each example:  "
   ]
  },
  {
   "cell_type": "code",
   "execution_count": null,
   "metadata": {
    "_uuid": "6283a4f50a4802636708c3a3c9275cbceb339f82"
   },
   "outputs": [],
   "source": [
    "class_rep = create_class_rep(prediction,y_test)\n",
    "class_rep"
   ]
  },
  {
   "cell_type": "markdown",
   "metadata": {
    "_uuid": "fb0295810a146f1a079a62f70cbcefa4b5118946"
   },
   "source": [
    "For instance the first row is telling us that out of (1257+0+3+13+4+8+21+0+22+1)=1329 examples containing the digit \"0\", 1257 have been correctly classfied, 0 of them have been classified as \"1\", 3 as \"2\", etc. \n",
    "\n",
    "\n",
    "From the matrix above we can calculate the precision, recall and F1 score of our model"
   ]
  },
  {
   "cell_type": "code",
   "execution_count": null,
   "metadata": {
    "_uuid": "468bbf6d551aaf519b9a6f491329f9d50907b987"
   },
   "outputs": [],
   "source": [
    "precision, recall, F1 = prec_rec_F1(class_rep)"
   ]
  },
  {
   "cell_type": "markdown",
   "metadata": {
    "_uuid": "ef9ed95760648980b759424efbd7e50a65e74e7f"
   },
   "source": [
    "We can plot the obtained result for each class"
   ]
  },
  {
   "cell_type": "code",
   "execution_count": null,
   "metadata": {
    "_uuid": "d4de5e7bdc6d5db0cdaabf592697f7efa00f3e93"
   },
   "outputs": [],
   "source": [
    "plt.figure(figsize=(8,8))\n",
    "\n",
    "plt.xticks(range(10))\n",
    "plt.yticks(1/10*np.array(range(10)))\n",
    "\n",
    "plt.bar(np.transpose(precision)[0],np.transpose(precision)[1], align='edge', width =-0.25)\n",
    "plt.bar(np.transpose(recall)[0],np.transpose(recall)[1],align='center',width = 0.25)\n",
    "plt.bar(np.transpose(F1)[0],np.transpose(F1)[1],align='edge',width =0.25)\n",
    "plt.legend(labels = ('Precision','Recall','F1'))\n",
    "\n",
    "plt.tight_layout()"
   ]
  },
  {
   "cell_type": "markdown",
   "metadata": {
    "_uuid": "7d42c3e5519e0d52ecbb413593ef50b9b4f804f9"
   },
   "source": [
    "## Second approach: Random Forest\n",
    "\n",
    "Here we classify the new examples according the Random Forest algorithm."
   ]
  },
  {
   "cell_type": "code",
   "execution_count": null,
   "metadata": {
    "_uuid": "26ee16a3739023fba877fc42ef9b65e3a0483591"
   },
   "outputs": [],
   "source": [
    "from sklearn.ensemble import RandomForestClassifier"
   ]
  },
  {
   "cell_type": "code",
   "execution_count": null,
   "metadata": {
    "_uuid": "bba9e8f515ba99f8b9b15a3fb024b5a9262794e4"
   },
   "outputs": [],
   "source": [
    "#Create a forest with n=100 trees and fot to the model\n",
    "forest = RandomForestClassifier(n_estimators=100)\n",
    "forest.fit(X_train, y_train)"
   ]
  },
  {
   "cell_type": "code",
   "execution_count": null,
   "metadata": {
    "_uuid": "a14c84396b17d21626b900a1394058618a597bc9"
   },
   "outputs": [],
   "source": [
    "#Predicting new results\n",
    "prediction = forest.predict(X_test)\n",
    "prediction = prediction.reshape(prediction.shape[0],1)"
   ]
  },
  {
   "cell_type": "code",
   "execution_count": null,
   "metadata": {
    "_uuid": "324784dece825fa9076f4c7c4462782766b38826"
   },
   "outputs": [],
   "source": [
    "#Accuracy\n",
    "accuracy = sum(prediction == y_test)[0]/(y_test.shape[0])\n",
    "print('Accuracy is: {}%'.format(accuracy))"
   ]
  },
  {
   "cell_type": "code",
   "execution_count": null,
   "metadata": {
    "_uuid": "5ec6022fdb1ca98880cca7289f996677e4087a08"
   },
   "outputs": [],
   "source": [
    "#Classification report\n",
    "class_rep = create_class_rep(prediction,y_test)\n",
    "class_rep"
   ]
  },
  {
   "cell_type": "code",
   "execution_count": null,
   "metadata": {
    "_uuid": "0a0684bf490ebb459c0ec844950cc5463e834a89"
   },
   "outputs": [],
   "source": [
    "#And precision, recall, F1\n",
    "\n",
    "precision, recall, F1 = prec_rec_F1(class_rep)\n",
    "\n",
    "plt.xticks(range(10))\n",
    "plt.yticks(1/10*np.array(range(10)))\n",
    "\n",
    "plt.bar(np.transpose(precision)[0],np.transpose(precision)[1], align='edge', width =-0.25)\n",
    "plt.bar(np.transpose(recall)[0],np.transpose(recall)[1],align='center',width = 0.25)\n",
    "plt.bar(np.transpose(F1)[0],np.transpose(F1)[1],align='edge',width =0.25)\n",
    "plt.legend(labels = ('Precision','Recall','F1'))\n",
    "\n",
    "plt.tight_layout()\n",
    "\n"
   ]
  },
  {
   "cell_type": "markdown",
   "metadata": {
    "_uuid": "48585d1103a9d50f00bff1c918d88510a05ba50f"
   },
   "source": [
    "## Third approach: Naive Bayes\n",
    "\n",
    "We use here the naive Bayes algorithm"
   ]
  },
  {
   "cell_type": "code",
   "execution_count": null,
   "metadata": {
    "_uuid": "ccad561701e0c362fddd3f62a6258b495a53d18a"
   },
   "outputs": [],
   "source": [
    "from sklearn.naive_bayes import GaussianNB"
   ]
  },
  {
   "cell_type": "code",
   "execution_count": null,
   "metadata": {
    "_uuid": "e185e739381db1c49e4a2fce12d4d17d8e9f7db0"
   },
   "outputs": [],
   "source": [
    "#Create an instance of the NB algorothm and fit to the training set\n",
    "classifier = GaussianNB()\n",
    "classifier.fit(X_test,y_test)"
   ]
  },
  {
   "cell_type": "code",
   "execution_count": null,
   "metadata": {
    "_uuid": "150907155c2e2dfbaa06e80ab7201baaa8420148"
   },
   "outputs": [],
   "source": [
    "#Predicting new results\n",
    "prediction = classifier.predict(X_test)\n",
    "prediction = prediction.reshape(prediction.shape[0],1)"
   ]
  },
  {
   "cell_type": "code",
   "execution_count": null,
   "metadata": {
    "_uuid": "d8340ca021ccc6dad0da8ff4e882e219ecdabd05"
   },
   "outputs": [],
   "source": [
    "accuracy = sum(prediction == y_test)[0]/(y_test.shape[0])\n",
    "print('Accuracy is: {}%'.format(accuracy))"
   ]
  },
  {
   "cell_type": "markdown",
   "metadata": {
    "_uuid": "54a8b09c5f7986cbae5c5a1d72539f11797ccfb8"
   },
   "source": [
    "Accuracy is extremely low as compared to what obtained above. It can of course be improved by some optimization technique (beyond the scope of this notebook)."
   ]
  },
  {
   "cell_type": "code",
   "execution_count": null,
   "metadata": {
    "_uuid": "398fb5db6e3ebce3731e6c5d17efc68dd6e8c1b2"
   },
   "outputs": [],
   "source": [
    "#Classification report\n",
    "class_rep = create_class_rep(prediction,y_test)\n",
    "class_rep"
   ]
  },
  {
   "cell_type": "markdown",
   "metadata": {
    "_uuid": "646d49cd2fb15965fb765ee6b74a8ab2550e38cb"
   },
   "source": [
    "Where is this low accuracy coming from? Let's see:"
   ]
  },
  {
   "cell_type": "code",
   "execution_count": null,
   "metadata": {
    "_uuid": "71dc00441dcebc29083b94f27ca5ed8777d296c1"
   },
   "outputs": [],
   "source": [
    "#Number of examples for each class\n",
    "class_rep['sum'] = class_rep.sum()\n",
    "\n",
    "#correctly classified examples for each class\n",
    "diag = pd.Series([class_rep.iloc[i,i] for i in range(10)])\n",
    "\n",
    "#Misclassification rate\n",
    "class_rep['misclass_rate'] = 1 - diag / class_rep['sum'] \n",
    "\n",
    "class_rep.drop('sum', axis=1)"
   ]
  },
  {
   "cell_type": "markdown",
   "metadata": {
    "_uuid": "63c81bf626d2b1129ed646c61afd53984c24956e"
   },
   "source": [
    "We see that the most misclassfied example is \"5\" (95% misclassification rate). "
   ]
  },
  {
   "cell_type": "code",
   "execution_count": null,
   "metadata": {
    "_uuid": "f633efc40deb0b3521fafbfae5335a682b62d1d9"
   },
   "outputs": [],
   "source": [
    "#And precision, recall, F1\n",
    "\n",
    "precision, recall, F1 = prec_rec_F1(class_rep)\n",
    "\n",
    "plt.xticks(range(10))\n",
    "plt.yticks(1/10*np.array(range(10)))\n",
    "\n",
    "plt.bar(np.transpose(precision)[0],np.transpose(precision)[1], align='edge', width =-0.25)\n",
    "plt.bar(np.transpose(recall)[0],np.transpose(recall)[1],align='center',width = 0.25)\n",
    "plt.bar(np.transpose(F1)[0],np.transpose(F1)[1],align='edge',width =0.25)\n",
    "plt.legend(labels = ('Precision','Recall','F1'))\n",
    "\n",
    "plt.tight_layout()\n",
    "\n",
    "\n"
   ]
  },
  {
   "cell_type": "markdown",
   "metadata": {
    "_uuid": "a700352a1f4be8aab2126c8ec2a94879a8416691"
   },
   "source": [
    "## Fourth approach: Support Vector Machine\n",
    "\n",
    "Let us now turn to the support vector machine case."
   ]
  },
  {
   "cell_type": "code",
   "execution_count": null,
   "metadata": {
    "_uuid": "ab3a3bb358f90c791ef0c2b5d4c14a86463cd134"
   },
   "outputs": [],
   "source": [
    "from sklearn.svm import LinearSVC"
   ]
  },
  {
   "cell_type": "code",
   "execution_count": null,
   "metadata": {
    "_uuid": "c3759c1d5aa5fbd06a0edbcb2b9f5b660ca94d9f"
   },
   "outputs": [],
   "source": [
    "#Create an instance of SVM and cfit to the training set\n",
    "classifier = LinearSVC()\n",
    "classifier.fit(X_train, y_train)"
   ]
  },
  {
   "cell_type": "code",
   "execution_count": null,
   "metadata": {
    "_uuid": "9e12ceba91786b3c889975c93d20e0a3406a259a"
   },
   "outputs": [],
   "source": [
    "#Predicting\n",
    "prediction = classifier.predict(X_test)\n",
    "prediction = prediction.reshape(prediction.shape[0],1)"
   ]
  },
  {
   "cell_type": "code",
   "execution_count": null,
   "metadata": {
    "_uuid": "e62169ca95213e2ad2b051a04d356abd1a73e8ad"
   },
   "outputs": [],
   "source": [
    "#Accuracy\n",
    "accuracy = sum(prediction == y_test)[0]/(y_test.shape[0])\n",
    "print('Accuracy is: {}%'.format(accuracy))"
   ]
  },
  {
   "cell_type": "code",
   "execution_count": null,
   "metadata": {
    "_uuid": "25d6e7eed9c162c7b0e903468c2279cef306009b"
   },
   "outputs": [],
   "source": [
    "class_rep = create_class_rep(prediction,y_test)\n",
    "class_rep"
   ]
  },
  {
   "cell_type": "code",
   "execution_count": null,
   "metadata": {
    "_uuid": "b57f2eb003c3c49dd74e4062b2f7f35617ba5309"
   },
   "outputs": [],
   "source": [
    "#And precision, recall, F1\n",
    "\n",
    "precision, recall, F1 = prec_rec_F1(class_rep)\n",
    "\n",
    "plt.xticks(range(10))\n",
    "plt.yticks(1/10*np.array(range(10)))\n",
    "\n",
    "plt.bar(np.transpose(precision)[0],np.transpose(precision)[1], align='edge', width =-0.25)\n",
    "plt.bar(np.transpose(recall)[0],np.transpose(recall)[1],align='center',width = 0.25)\n",
    "plt.bar(np.transpose(F1)[0],np.transpose(F1)[1],align='edge',width =0.25)\n",
    "plt.legend(labels = ('Precision','Recall','F1'))\n",
    "\n",
    "plt.tight_layout()\n",
    "\n"
   ]
  },
  {
   "cell_type": "markdown",
   "metadata": {
    "_uuid": "a17636574963c62dbac0b47f5b442b8f084cfec6"
   },
   "source": [
    "# Part 3 / Appendix: Principal component analysis\n",
    "\n",
    "As we have briefly discussed above, most of the pixels have average value ~0, mainly corresponding to the border areas of the original papers where the digits were drawn. This suggests that the 784+1-dimensional vector of features can be reduced, as to account for the dominant components while neglecting those which are not playing a crucial role in the classification. \n",
    "\n",
    "\n",
    "To achieve that, we use Principal Component Analysis. What we do is basically look for correlation between the pixels. For instance pixels 407 and 380:\n"
   ]
  },
  {
   "cell_type": "code",
   "execution_count": null,
   "metadata": {
    "_uuid": "11cedac786f6727345434a08083c98cafad41773"
   },
   "outputs": [],
   "source": [
    "temp_im = np.zeros(shape=(28,28))\n",
    "temp_im[407//28, 407%28] = 100\n",
    "temp_im[380//28, 380%28] = 100\n",
    "\n",
    "sns.heatmap(temp_im, cmap ='gray')\n",
    "plt.show()"
   ]
  },
  {
   "cell_type": "markdown",
   "metadata": {
    "_uuid": "9814a32ac930bf21c3d33facf311c9cdbeb06613"
   },
   "source": [
    "\n",
    "are most likely highly correlated, in that when drawing a digit, one that hits pixel 380 is likely to hit also pixel 407. We show below a by-hand derivation, although a similar approach can be adopted by making use of PCA from sklearn.decomposition"
   ]
  },
  {
   "cell_type": "code",
   "execution_count": null,
   "metadata": {
    "_uuid": "4ea679fad84a8db9b482aced2e750710a219fda7"
   },
   "outputs": [],
   "source": [
    "#Calculating the covariance matrix, its eigenvalues and eigenvectors\n",
    "X_train_trans = np.transpose(X_train)\n",
    "covariance = np.dot(X_train_trans,X_train)\n",
    "eigenval, eigenvec = np.linalg.eig(covariance)"
   ]
  },
  {
   "cell_type": "code",
   "execution_count": null,
   "metadata": {
    "_uuid": "e9fc8f713ee71a26d98ebea9d0dfe2d51578779e"
   },
   "outputs": [],
   "source": [
    "#We pick the first two main eigenvectors. This comes with some advantage concerning visualization.\n",
    "#(note their are sorted in descnding order with respect to their associated eigenvalues).\n",
    "#Note the imaginary part of the components of those vector is zero.\n",
    "#We take the real part just not ot get any error in the following\n",
    "PCA_mat = np.real(eigenvec[:,0:2])"
   ]
  },
  {
   "cell_type": "markdown",
   "metadata": {
    "_uuid": "887a9165ac8e8b092a4b118e1f95f33eb1a6215f"
   },
   "source": [
    "#### What this components actually are?\n",
    "\n",
    "They are linear combinations of the original 784-dimensional vectors. To viusalize them, let's plot a heatmap, where the contribution of each component is encoded in the intensity of the colour"
   ]
  },
  {
   "cell_type": "code",
   "execution_count": null,
   "metadata": {
    "_uuid": "bbe9d9c7c9c2bc7fb9d4990098d7552d09713f9c",
    "scrolled": true
   },
   "outputs": [],
   "source": [
    "plt.figure(figsize=(10,10))\n",
    "sns.heatmap(PCA_mat, cmap = 'inferno')\n",
    "plt.show()"
   ]
  },
  {
   "cell_type": "markdown",
   "metadata": {
    "_uuid": "56cf5b122488181c5beb247ac471122bc88217f2"
   },
   "source": [
    " Now that we have obtained the rotation matrix PCA_mat, we can project the training set along these two main directions"
   ]
  },
  {
   "cell_type": "code",
   "execution_count": null,
   "metadata": {
    "_uuid": "e135f08f1e27c240d8137e5c24e5df1b4cccee50"
   },
   "outputs": [],
   "source": [
    "X_transf = np.dot(X_train, PCA_mat)"
   ]
  },
  {
   "cell_type": "markdown",
   "metadata": {
    "_uuid": "0641c95814a61d7aee9e785ad47a6c0edd9a5d86"
   },
   "source": [
    "We can visualize the data. Each colour if a datapoint corresponds to a class. We see it's very hard to distinguish the different clusters. This suggests that by retaining only 2 principal compenents we are losing some substantial amount of information"
   ]
  },
  {
   "cell_type": "code",
   "execution_count": null,
   "metadata": {
    "_uuid": "bcd140e4e95512b242455d75bef10a22d9fd40a7"
   },
   "outputs": [],
   "source": [
    "plt.scatter(X_transf[:,0],X_transf[:,1], c = y_train, cmap ='plasma')\n",
    "plt.show()"
   ]
  },
  {
   "cell_type": "markdown",
   "metadata": {
    "_uuid": "1be91117e32af8ada85bf7dda1cb64a64df8fd19"
   },
   "source": [
    " To verify this, let us run a standard logistic regression classification"
   ]
  },
  {
   "cell_type": "code",
   "execution_count": null,
   "metadata": {
    "_uuid": "9575ab0bfd54b47717d6eb90aa1236b9d7fefc22"
   },
   "outputs": [],
   "source": [
    "y_target = []\n",
    "for i in range(10):\n",
    "    y_target.append(y_train.apply(lambda x: 1 if x == i else 0))\n",
    "    \n",
    "#Initialize the list of training parameters (784+1 (bias) for each digit)\n",
    "theta=[]\n",
    "\n",
    "#Gradient descent to train the model\n",
    "for i in range(10):\n",
    "    ytemp = np.array(y_target[i])\n",
    "    ytemp = ytemp.reshape(y_train.shape[0],1)\n",
    "\n",
    "    thetatemp = np.zeros(shape=(X_transf.shape[1],1))\n",
    "\n",
    "    alpha = 0.03\n",
    "    n_iter = 400\n",
    "\n",
    "    thetatemp = grad_descent(X_transf,ytemp,thetatemp,alpha,n_iter)\n",
    "    theta.append(thetatemp)\n",
    "    print('{}: done!'.format(i))"
   ]
  },
  {
   "cell_type": "markdown",
   "metadata": {
    "_uuid": "5df08bd45217839604b518f059aad71c4d1917d9"
   },
   "source": [
    "Transforming the test set as well, and testing the accuracy of the model, we in fact realize the prediction are not optimal...Accuracy ~29%! "
   ]
  },
  {
   "cell_type": "code",
   "execution_count": null,
   "metadata": {
    "_uuid": "4f20c80d8dcc6803f6d4edb22b2fe3177b3988a3"
   },
   "outputs": [],
   "source": [
    "X_test_transf = np.dot(X_test, PCA_mat)"
   ]
  },
  {
   "cell_type": "code",
   "execution_count": null,
   "metadata": {
    "_uuid": "4694fe69e3438533d03cd0a68fe18a41ac0a67d5"
   },
   "outputs": [],
   "source": [
    "result = [sigmoid(np.dot(X_test_transf,theta[i])) for i in range(10)]\n",
    "result = np.transpose(np.array(result)).reshape(X_test.shape[0],10)\n",
    "\n",
    "prediction = (np.array([element.argmax() for element in result])).reshape(X_test_transf.shape[0],1)"
   ]
  },
  {
   "cell_type": "code",
   "execution_count": null,
   "metadata": {
    "_uuid": "d2589de5e5125724f935cefb1b590c305bf253f5"
   },
   "outputs": [],
   "source": [
    "y_test = np.array(y_test)\n",
    "y_test = y_test.reshape(y_test.shape[0],1)\n",
    "\n",
    "\n",
    "accuracy = sum(prediction == y_test)[0]/(y_test.shape[0])\n",
    "print('Accuracy is: {}%'.format(accuracy))"
   ]
  },
  {
   "cell_type": "markdown",
   "metadata": {
    "_uuid": "672abce690f0528d993a9ba3c35f9cfa6e7b2ba5"
   },
   "source": [
    "How to choose the number of principal component such that a faithful representation of the original dataset is retained? The rule is to preserve '99%' of the variance of the data. A rough way to check this is to compare the cumulative sum of the k-principal eigenvalues against the full $m$ = 785-list of eigenvalues. In particular  we want to check what's the smallest $k$ such that \n",
    " $$ 1- \\frac{\\sum_{k} \\textrm{Eigenvalues}}{\\sum_{m} \\textrm{Eigenvalues}} \\le 0.01 $$"
   ]
  },
  {
   "cell_type": "code",
   "execution_count": null,
   "metadata": {
    "_uuid": "7e29974b8a5dcfb31a093d39fd1bb8ce367412da"
   },
   "outputs": [],
   "source": [
    "for k in range(X_train.shape[1]):\n",
    "    if 1-sum(eigenval[:k])/sum(eigenval) < 0.01:\n",
    "        print('{} principal components needed'.format(k))\n",
    "        break\n",
    "    "
   ]
  },
  {
   "cell_type": "markdown",
   "metadata": {
    "_uuid": "fcac08ad5beeb8ecaebfb67069478ae5dd35b5a5"
   },
   "source": [
    "Can you verify that by using this number of components the accuracy is actually close to that of the full model?"
   ]
  }
 ],
 "metadata": {
  "kernelspec": {
   "display_name": "Python 3",
   "language": "python",
   "name": "python3"
  },
  "language_info": {
   "codemirror_mode": {
    "name": "ipython",
    "version": 3
   },
   "file_extension": ".py",
   "mimetype": "text/x-python",
   "name": "python",
   "nbconvert_exporter": "python",
   "pygments_lexer": "ipython3",
   "version": "3.7.3"
  }
 },
 "nbformat": 4,
 "nbformat_minor": 1
}
